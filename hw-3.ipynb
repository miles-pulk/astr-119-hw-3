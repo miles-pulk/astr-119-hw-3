{
 "cells": [
  {
   "cell_type": "code",
   "execution_count": 23,
   "metadata": {},
   "outputs": [],
   "source": [
    "%matplotlib inline\n",
    "import numpy as np\n",
    "import matplotlib.pyplot as plt"
   ]
  },
  {
   "cell_type": "code",
   "execution_count": 24,
   "metadata": {},
   "outputs": [],
   "source": [
    "def function_for_roots(x):\n",
    "    a = 1.01\n",
    "    b = -3.04\n",
    "    c = 2.07\n",
    "    return a*x**2 + b*x + c"
   ]
  },
  {
   "cell_type": "code",
   "execution_count": 25,
   "metadata": {},
   "outputs": [],
   "source": [
    "def check_initial_values(f, x_min, x_max, tol):\n",
    "    \n",
    "    #check our initial guesses\n",
    "    y_min = f(x_min)\n",
    "    y_max = f(x_max)\n",
    "    \n",
    "    #check that x_min and x_max contain a 0 crossing the x-axis\n",
    "    if(y_min*y_max>=0.0):\n",
    "        print(\"No zero crossing found in the range = \",x_min,x_max)\n",
    "        s = \"f(%f) = %f, f(%f) = %f\" % (x_min,y_min,x_max,y_max)\n",
    "        print(s)\n",
    "        return(0)\n",
    "    \n",
    "    #if x_min is a root, return flag == 1\n",
    "    if(np.fabs(y_min)<tol):\n",
    "        return 1\n",
    "    \n",
    "    #if x_max is a root, then return flag == 2\n",
    "    if(np.fabs(y_max)<tol):\n",
    "        return 2\n",
    "    \n",
    "    #if we reach this point, the bracket is valid \n",
    "    #and we will return 3\n",
    "    return 3\n",
    "\n",
    "def bisection_root_finding(f, x_min_start, x_max_start, tol):\n",
    "    \n",
    "    #this function uses bisection search to find a root\n",
    "    \n",
    "    x_min = x_min_start        #minimum x in bracket\n",
    "    x_max = x_max_start        #maximum x in bracket\n",
    "    x_mid = 0.0                #mid point\n",
    "    \n",
    "    y_min = f(x_min)  #function value at x_min\n",
    "    y_max = f(x_max)  #function value at x_max\n",
    "    y_mid = 0.0       #function value at mid point\n",
    "    \n",
    "    imax = 1000       #set a maximum number of interations\n",
    "    i = 0             #iteration counter\n",
    "    \n",
    "    #check the initial value\n",
    "    flag = check_initial_values(f,x_min,x_max,tol)\n",
    "    if(flag==0):\n",
    "        print(\"Error in bisection_root_finding().\")\n",
    "        raise ValueError('Initial values invalid',x_min,x_max)\n",
    "    elif(flag==1):\n",
    "        #lucky guess\n",
    "        return x_min\n",
    "    elif(flag==2):\n",
    "        #another lucky guess\n",
    "        return x_max\n",
    "    \n",
    "    #if we reach here. then we need to conudct the search\n",
    "    \n",
    "    #set a flag\n",
    "    flag = 1\n",
    "    \n",
    "    #endter a while loop\n",
    "    while(flag):\n",
    "        x_mid = 0.5*(x_min+x_max)    #mid point\n",
    "        y_mid = f(x_mid)            #function value at x_mid\n",
    "        \n",
    "        #check if x_mid is a root\n",
    "        if(np.fabs(y_mid)<tol):\n",
    "            flag = 0\n",
    "        else:\n",
    "            #x_mid is not a root\n",
    "            \n",
    "            #if the product of the function at the midpoint\n",
    "            #and at one of the end points is greater than\n",
    "            #zero, replace the end point\n",
    "            if(f(x_min)*f(x_mid)>0):\n",
    "                #replace x_min with x_mid\n",
    "                x_min = x_mid\n",
    "            else:\n",
    "                #replace x_max with x_mid\n",
    "                x_max = x_mid\n",
    "                \n",
    "        #print out the iteration\n",
    "        print(x_min,f(x_min),x_max,f(x_max))\n",
    "        \n",
    "        #count the iteration\n",
    "        i += 1\n",
    "        \n",
    "        #if we have exceeded the max number\n",
    "        #of iteration, exit\n",
    "        if(i>=imax):\n",
    "            print(\"Exceeded max number of iterations = \",i)\n",
    "            s = \"Min bracket f(%f) = %f\" % (x_min,f(x_min))\n",
    "            print(s)\n",
    "            s = \"Max bracket f(%f) = %f\" % (x_max,f(x_max))\n",
    "            print(s)\n",
    "            s = \"Mid bracket f(%f) = %f\" % (x_mid,f(x_mid))\n",
    "            print(s)\n",
    "            raise StopIteration('Stopping iterations after ',i)\n",
    "            \n",
    "    #we are done!\n",
    "    return x_mid"
   ]
  },
  {
   "cell_type": "code",
   "execution_count": 30,
   "metadata": {},
   "outputs": [
    {
     "name": "stdout",
     "output_type": "stream",
     "text": [
      "0 2.07\n",
      "1.5 -0.2175000000000007\n",
      "0.75 0.3581249999999996 1.5 -0.2175000000000007\n",
      "0.75 0.3581249999999996 1.125 -0.07171875000000005\n",
      "0.9375 0.10769531249999975 1.125 -0.07171875000000005\n",
      "1.03125 0.009111328124999485 1.125 -0.07171875000000005\n",
      "1.03125 0.009111328124999485 1.078125 -0.033522949218749876\n",
      "1.03125 0.009111328124999485 1.0546875 -0.012760620117187482\n",
      "1.03125 0.009111328124999485 1.04296875 -0.0019633483886720704\n",
      "1.037109375 0.0035393142700193003 1.04296875 -0.0019633483886720704\n",
      "1.0400390625 0.0007793140411376243 1.04296875 -0.0019633483886720704\n",
      "1.0400390625 0.0007793140411376243 1.04150390625 -0.0005941843986509987\n",
      "1.040771484375 9.202301502186927e-05 1.04150390625 -0.0005941843986509987\n",
      "1.040771484375 9.202301502186927e-05 1.0411376953125 -0.0002512161433698701\n",
      "1.040771484375 9.202301502186927e-05 1.04095458984375 -7.963042706249368e-05\n",
      "1.040863037109375 6.1878282573424315e-06 1.04095458984375 -7.963042706249368e-05\n",
      "1.040863037109375 6.1878282573424315e-06 1.0409088134765625 -3.6723415833161965e-05\n",
      "1.040863037109375 6.1878282573424315e-06 1.0408859252929688 -1.5268322895334308e-05\n",
      "1.040863037109375 6.1878282573424315e-06 1.0408744812011719 -4.540379595852073e-06\n",
      "1.040863037109375 6.1878282573424315e-06 1.0408744812011719 -4.540379595852073e-06\n",
      "Root found with y(1.040869) = 0.000001\n"
     ]
    }
   ],
   "source": [
    "x_min = 0\n",
    "x_max = 1.5\n",
    "tolerance = 1.0e-6\n",
    "\n",
    "#print the inital guess\n",
    "print(x_min,function_for_roots(x_min))\n",
    "print(x_max,function_for_roots(x_max))\n",
    "\n",
    "x_root = bisection_root_finding(function_for_roots,x_min,x_max,tolerance)\n",
    "y_root = function_for_roots(x_root)\n",
    "\n",
    "s = \"Root found with y(%f) = %f\" % (x_root,y_root)\n",
    "print(s)\n"
   ]
  },
  {
   "cell_type": "code",
   "execution_count": 32,
   "metadata": {},
   "outputs": [
    {
     "name": "stdout",
     "output_type": "stream",
     "text": [
      "1.5 -0.2175000000000007\n",
      "3.0 2.0399999999999987\n",
      "1.5 -0.2175000000000007 2.25 0.3431250000000001\n",
      "1.875 -0.07921875000000034 2.25 0.3431250000000001\n",
      "1.875 -0.07921875000000034 2.0625 0.09644531249999977\n",
      "1.96875 -0.0002636718750004263 2.0625 0.09644531249999977\n",
      "1.96875 -0.0002636718750004263 2.015625 0.045871582031249414\n",
      "1.96875 -0.0002636718750004263 1.9921875 0.022249145507811985\n",
      "1.96875 -0.0002636718750004263 1.98046875 0.01085403442382793\n",
      "1.96875 -0.0002636718750004263 1.974609375 0.005260505676269123\n",
      "1.96875 -0.0002636718750004263 1.9716796875 0.0024897480010981354\n",
      "1.96875 -0.0002636718750004263 1.97021484375 0.001110870838165301\n",
      "1.96875 -0.0002636718750004263 1.969482421875 0.0004230576753614379\n",
      "1.96875 -0.0002636718750004263 1.9691162109375 7.955744862586656e-05\n",
      "1.96893310546875 -9.20910760759952e-05 1.9691162109375 7.955744862586656e-05\n",
      "1.969024658203125 -6.275279447631732e-06 1.9691162109375 7.955744862586656e-05\n",
      "1.969024658203125 -6.275279447631732e-06 1.9690704345703125 3.663896815853107e-05\n",
      "1.969024658203125 -6.275279447631732e-06 1.9690475463867188 1.5181315248025129e-05\n",
      "1.969024658203125 -6.275279447631732e-06 1.9690361022949219 4.452885622896474e-06\n",
      "1.969024658203125 -6.275279447631732e-06 1.9690361022949219 4.452885622896474e-06\n",
      "Root found with y(1.969030) = -0.000001\n"
     ]
    }
   ],
   "source": [
    "x_min = 1.5\n",
    "x_max = 3.0\n",
    "tolerance = 1.0e-6\n",
    "\n",
    "#print the inital guess\n",
    "print(x_min,function_for_roots(x_min))\n",
    "print(x_max,function_for_roots(x_max))\n",
    "\n",
    "x_root = bisection_root_finding(function_for_roots,x_min,x_max,tolerance)\n",
    "y_root = function_for_roots(x_root)\n",
    "\n",
    "s = \"Root found with y(%f) = %f\" % (x_root,y_root)\n",
    "print(s)\n",
    "\n"
   ]
  },
  {
   "cell_type": "code",
   "execution_count": 42,
   "metadata": {},
   "outputs": [
    {
     "name": "stderr",
     "output_type": "stream",
     "text": [
      "No handles with labels found to put in legend.\n"
     ]
    },
    {
     "data": {
      "text/plain": [
       "<matplotlib.legend.Legend at 0x16820e5acc0>"
      ]
     },
     "execution_count": 42,
     "metadata": {},
     "output_type": "execute_result"
    },
    {
     "data": {
      "image/png": "[encoded data removed]",
      "text/plain": [
       "<Figure size 432x288 with 1 Axes>"
      ]
     },
     "metadata": {
      "needs_background": "light"
     },
     "output_type": "display_data"
    }
   ],
   "source": [
    "x = np.linspace(0,3,1000)\n",
    "y = function_for_roots(x)\n",
    "u = 0*x\n",
    "plt.plot(x,y)\n",
    "plt.plot(x,u)\n",
    "plt.xlabel('x')\n",
    "plt.ylabel('f(x)')\n",
    "plt.xlim([0,3])\n",
    "plt.ylim([-0.5,2.1])\n",
    "plt.plot([1.969030], [0], marker='x', markersize=6, color=\"black\")\n",
    "plt.plot([1.040869], [0], marker='x', markersize=6, color=\"black\")\n",
    "plt.plot([0.01], [0], marker='|', markersize=10, color=\"red\")\n",
    "plt.plot([1.5], [0], marker='|', markersize=10, color=\"red\")\n",
    "plt.plot([2.99], [0], marker='|', markersize=10, color=\"red\")\n",
    "\n",
    "\n",
    "\n"
   ]
  },
  {
   "cell_type": "code",
   "execution_count": null,
   "metadata": {},
   "outputs": [],
   "source": []
  }
 ],
 "metadata": {
  "kernelspec": {
   "display_name": "Python 3",
   "language": "python",
   "name": "python3"
  },
  "language_info": {
   "codemirror_mode": {
    "name": "ipython",
    "version": 3
   },
   "file_extension": ".py",
   "mimetype": "text/x-python",
   "name": "python",
   "nbconvert_exporter": "python",
   "pygments_lexer": "ipython3",
   "version": "3.7.0"
  }
 },
 "nbformat": 4,
 "nbformat_minor": 2
}
